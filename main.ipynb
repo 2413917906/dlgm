{
 "cells": [
  {
   "cell_type": "code",
   "execution_count": 1,
   "metadata": {},
   "outputs": [],
   "source": [
    "from __future__ import print_function\n",
    "\n",
    "import torch\n",
    "import torch.nn as nn\n",
    "import torch.nn.functional as F\n",
    "import torch.utils.data as data\n",
    "\n",
    "import numpy as np\n",
    "import os\n",
    "import os.path as osp\n",
    "\n"
   ]
  },
  {
   "cell_type": "code",
   "execution_count": null,
   "metadata": {},
   "outputs": [],
   "source": [
    "class LoadData(data.Dataset):\n",
    "    \"\"\"Loading the graph data\"\"\"\n",
    "\n",
    "    def __init__(self, keypoints, descriptors, image_file):\n",
    "        self.keypoints = keypoints\n",
    "        self.descriptors = descriptors\n",
    "        self.image_file = image_file\n",
    "        self.make_graph_structure()\n",
    "        \n",
    "    def make_graph_structure():\n",
    "        raise NotImplementedError()\n",
    "\n",
    "    def __getitem__(self, index):\n",
    "        \"\"\"\n",
    "        Args:\n",
    "            index (int): Index\n",
    "        Returns:\n",
    "            tuple: (image, target) where target is class_index of the target class.\n",
    "        \"\"\"\n",
    "        graph_1 = self.graph_structure[index]\n",
    "        graph_2 = self.graph_structure[index + 1]\n",
    "        ground_truth_matching = self.ground_truth_matching[index + 1]\n",
    "\n",
    "        return graph_1, graph_2, ground_truth_matching\n",
    "\n",
    "    def __len__(self):\n",
    "        return len(self.graph_structure) - 1"
   ]
  },
  {
   "cell_type": "code",
   "execution_count": null,
   "metadata": {},
   "outputs": [],
   "source": [
    "class dlgm_net(nn.Module):\n",
    "        def __init__(self):\n",
    "        super(dlgm_net, self).__init__()\n",
    "\n",
    "        self.fc1 = nn.Linear(784, 400)\n",
    "        self.fc21 = nn.Linear(400, 20)\n",
    "        self.fc22 = nn.Linear(400, 20)\n",
    "        self.fc3 = nn.Linear(20, 400)\n",
    "        self.fc4 = nn.Linear(400, 784)\n",
    "\n",
    "\n",
    "    def forward(self, x):\n",
    "        raise NotImplementedError()"
   ]
  }
 ],
 "metadata": {
  "kernelspec": {
   "display_name": "Python 3",
   "language": "python",
   "name": "python3"
  },
  "language_info": {
   "codemirror_mode": {
    "name": "ipython",
    "version": 3
   },
   "file_extension": ".py",
   "mimetype": "text/x-python",
   "name": "python",
   "nbconvert_exporter": "python",
   "pygments_lexer": "ipython3",
   "version": "3.7.2"
  }
 },
 "nbformat": 4,
 "nbformat_minor": 2
}
